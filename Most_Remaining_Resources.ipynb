{
  "nbformat": 4,
  "nbformat_minor": 0,
  "metadata": {
    "colab": {
      "provenance": []
    },
    "kernelspec": {
      "name": "python3",
      "display_name": "Python 3"
    },
    "language_info": {
      "name": "python"
    }
  },
  "cells": [
    {
      "cell_type": "code",
      "execution_count": null,
      "metadata": {
        "id": "Z2XeYyvz_Neu"
      },
      "outputs": [],
      "source": [
        "# Set of services to be scheduled, including dependencies, computational requirement,\n",
        "# memory requirement and number of containers\n",
        "services = {\n",
        "    \"1\":{\"prev\": [], \"connections\":[\"2\"], \"cal\": 7, \"str\": 10, \"container\": 5},\n",
        "    \"2\":{\"prev\": [\"1\"], \"connections\":[\"4\"], \"cal\": 6, \"str\": 12, \"container\": 3},\n",
        "    \"3\":{\"prev\": [], \"connections\":[\"4\"], \"cal\": 8, \"str\": 16, \"container\": 4},\n",
        "    \"4\":{\"prev\": [\"2\", \"3\"], \"connections\":[\"5\"], \"cal\": 6, \"str\": 10, \"container\": 3},\n",
        "    \"5\":{\"prev\": [\"4\"],\"connections\":[\"6\", \"7\"],\"cal\": 5, \"str\": 14, \"container\": 5},\n",
        "    \"6\":{\"prev\": [\"5\"], \"connections\":[\"7\"], \"cal\": 7, \"str\": 12, \"container\": 4},\n",
        "    \"7\":{\"prev\": [\"5\", \"6\"], \"connections\":[\"8\"], \"cal\": 6, \"str\": 10, \"container\": 3},\n",
        "    \"8\":{\"prev\": [\"6\", \"7\"], \"connections\":[], \"cal\": 8, \"str\": 16, \"container\": 5}\n",
        "}\n",
        "\n",
        "# Set of nodes to schedule to, including computational capacity, memory capacity,\n",
        "# and fail rate\n",
        "nodes = {\n",
        "    \"1\":{\"max_cal\": 70, \"max_str\": 100, \"fail\": 0.4},\n",
        "    \"2\":{\"max_cal\": 60, \"max_str\": 110, \"fail\": 0.01},\n",
        "    \"3\":{\"max_cal\": 80, \"max_str\": 90, \"fail\": 0.03},\n",
        "    \"4\":{\"max_cal\": 90, \"max_str\": 120, \"fail\": 0.02},\n",
        "    \"5\":{\"max_cal\": 70, \"max_str\": 80, \"fail\": 0.05},\n",
        "    \"6\":{\"max_cal\": 90, \"max_str\": 100, \"fail\": 0.04},\n",
        "    \"7\":{\"max_cal\": 50, \"max_str\": 110, \"fail\": 0.02},\n",
        "    \"8\":{\"max_cal\": 80, \"max_str\": 120, \"fail\": 0.06},\n",
        "    \"9\":{\"max_cal\": 60, \"max_str\": 130, \"fail\": 0.03},\n",
        "    \"10\":{\"max_cal\": 50, \"max_str\": 100, \"fail\": 0.02},\n",
        "}\n"
      ]
    },
    {
      "cell_type": "code",
      "source": [
        "import numpy as np\n",
        "\n",
        "# Initialize pheromone matrix\n",
        "pheromones = np.ones((len(services), len(nodes))) * 0.1\n",
        "\n",
        "# Turn service set into list\n",
        "added = set()\n",
        "service_list = []\n",
        "while len(service_list) < len(services.items()):\n",
        "    for service in services.keys():\n",
        "        service_name = str(service)\n",
        "        prev = set(services[service][\"prev\"])\n",
        "        if service_name not in added and prev.issubset(added):\n",
        "            service_list.append(service_name)\n",
        "    added.update(service_list)\n",
        "\n",
        "print(service_list)\n",
        "\n",
        "#Turn nodes set into list\n",
        "node_list = [str(node) for node in nodes.keys()]\n",
        "\n",
        "print(node_list)"
      ],
      "metadata": {
        "colab": {
          "base_uri": "https://localhost:8080/"
        },
        "id": "RHdVc9Wc_Snq",
        "outputId": "982c3762-a402-40e8-d394-6ad55a7a949c"
      },
      "execution_count": null,
      "outputs": [
        {
          "output_type": "stream",
          "name": "stdout",
          "text": [
            "['1', '3', '2', '4', '5', '6', '7', '8']\n",
            "['1', '2', '3', '4', '5', '6', '7', '8', '9', '10']\n"
          ]
        }
      ]
    },
    {
      "cell_type": "code",
      "source": [
        "# A list of assigned containers for each node\n",
        "assign_list = [[] for node in node_list]\n",
        "\n",
        "# Keep track of how many available resources there are\n",
        "avail = [(nodes[str(node)][\"max_cal\"], nodes[str(node)][\"max_str\"]) for node in node_list]\n",
        "\n",
        "#For each service\n",
        "for service in service_list:\n",
        "\n",
        "  #Records the remaining computational and storage capacity\n",
        "  remaining = np.zeros(len(node_list))\n",
        "\n",
        "  #For each container in the service\n",
        "  for container in range(services[service][\"container\"]):\n",
        "\n",
        "    #Sums total resources\n",
        "    total_avail = np.array([x + y for x, y in avail])\n",
        "\n",
        "    #Get probailities based off percentage of total resources in cluster\n",
        "    probabilities = total_avail/np.sum(total_avail)\n",
        "\n",
        "    #Get the node with the most resources\n",
        "    node = np.argmax(probabilities)\n",
        "    r_cal, r_str = avail[node]\n",
        "\n",
        "    #If can't schedule to that node, choose random node until it finds an acceptable node\n",
        "    while r_cal <= services[service][\"cal\"] or r_str <= services[service][\"str\"]:\n",
        "      node = int(np.random.choice(node_list, p = probabilities)) - 1\n",
        "      r_cal, r_str = avail[node]\n",
        "\n",
        "    #Assign the service to the specific node\n",
        "    assign_list[node].append(service)\n",
        "\n",
        "    #Update available resources for that node\n",
        "    avail[node] = tuple(np.subtract(avail[node], (services[service][\"cal\"], services[service][\"str\"])))\n",
        "\n",
        "#Store path and remaining resources avaialble\n",
        "path = [(index + 1, assign_list[index])for index in range(len(assign_list))]\n",
        "remaining = [(index + 1, avail[index])for index in range(len(avail))]"
      ],
      "metadata": {
        "colab": {
          "base_uri": "https://localhost:8080/"
        },
        "id": "9pgtVdg-HxYm",
        "outputId": "3cc9c51c-e16e-441f-8d69-8a30217be524"
      },
      "execution_count": null,
      "outputs": [
        {
          "output_type": "stream",
          "name": "stdout",
          "text": [
            "[(1, ['2', '4', '7']), (2, ['2', '5', '7']), (3, ['2', '5', '7']), (4, ['1', '1', '3', '5', '8']), (5, ['5', '8']), (6, ['1', '3', '6', '8']), (7, ['4', '6']), (8, ['1', '3', '4', '6']), (9, ['1', '3', '6', '8']), (10, ['5', '8'])]\n",
            "[(1, (52, 68)), (2, (43, 74)), (3, (63, 54)), (4, (55, 54)), (5, (57, 50)), (6, (60, 46)), (7, (37, 88)), (8, (52, 72)), (9, (30, 76)), (10, (37, 70))]\n"
          ]
        }
      ]
    },
    {
      "cell_type": "code",
      "source": [
        "#Print the service schedule\n",
        "print(f'\\n1. Microservices Assigned\\n')\n",
        "print(f'Node \\t\\tScheduled')\n",
        "print(f'----------------------------------------------')\n",
        "for i in path:\n",
        "  print(f'Node {i[0]}: \\t{i[1]} ')\n",
        "\n",
        "\n",
        "#Print the remaining resouces of each node\n",
        "print(f'\\n\\n2. Remaining Resources Summary\\n')\n",
        "print(f'Node \\t\\tCPU Usage \\tMemory Usage')\n",
        "print(f'----------------------------------------------')\n",
        "for i, val in remaining:\n",
        "  print(f'Node {i}: \\tcpu:{val[0]}/{list(nodes[str(i)].values())[0]} () \\tmem:{val[1]}/{list(nodes[str(i)].values())[1]}')"
      ],
      "metadata": {
        "colab": {
          "base_uri": "https://localhost:8080/"
        },
        "id": "oog_Vh13Tg7x",
        "outputId": "538ea6b2-c831-47ec-a0fd-01396abc4508"
      },
      "execution_count": null,
      "outputs": [
        {
          "output_type": "stream",
          "name": "stdout",
          "text": [
            "\n",
            "1. Microservices Assigned\n",
            "\n",
            "Node \t\tScheduled\n",
            "----------------------------------------------\n",
            "Node 1: \t['2', '4', '7'] \n",
            "Node 2: \t['2', '5', '7'] \n",
            "Node 3: \t['2', '5', '7'] \n",
            "Node 4: \t['1', '1', '3', '5', '8'] \n",
            "Node 5: \t['5', '8'] \n",
            "Node 6: \t['1', '3', '6', '8'] \n",
            "Node 7: \t['4', '6'] \n",
            "Node 8: \t['1', '3', '4', '6'] \n",
            "Node 9: \t['1', '3', '6', '8'] \n",
            "Node 10: \t['5', '8'] \n",
            "\n",
            "\n",
            "2. Remaining Resources Summary\n",
            "\n",
            "Node \t\tCPU Usage \tMemory Usage\n",
            "----------------------------------------------\n",
            "Node 1: \tcpu:52/70 () \tmem:68/100\n",
            "Node 2: \tcpu:43/60 () \tmem:74/110\n",
            "Node 3: \tcpu:63/80 () \tmem:54/90\n",
            "Node 4: \tcpu:55/90 () \tmem:54/120\n",
            "Node 5: \tcpu:57/70 () \tmem:50/80\n",
            "Node 6: \tcpu:60/90 () \tmem:46/100\n",
            "Node 7: \tcpu:37/50 () \tmem:88/110\n",
            "Node 8: \tcpu:52/80 () \tmem:72/120\n",
            "Node 9: \tcpu:30/60 () \tmem:76/130\n",
            "Node 10: \tcpu:37/50 () \tmem:70/100\n"
          ]
        }
      ]
    },
    {
      "cell_type": "code",
      "source": [
        "#Calculate utilization rate from best computed schedule\n",
        "utilization_rate = [(node, 1 - (cal + mem)/(nodes[str(node)][\"max_cal\"] + nodes[str(node)][\"max_str\"])) for (node, (cal, mem)) in remaining]\n",
        "\n",
        "#Print utilization rate for each node from best computed schedule.\n",
        "print(f'Total Utilization Rate for each Node\\n')\n",
        "print(f'Node \\t\\tUtilization')\n",
        "print(f'-----------------------------------')\n",
        "for i, util in utilization_rate:\n",
        "  print(f'Node {i}: \\t{util}')"
      ],
      "metadata": {
        "colab": {
          "base_uri": "https://localhost:8080/"
        },
        "id": "KimCXNINMGGP",
        "outputId": "dace2c13-34f8-4be6-a072-ac2039028257"
      },
      "execution_count": null,
      "outputs": [
        {
          "output_type": "stream",
          "name": "stdout",
          "text": [
            "Total Utilization Rate for each Node\n",
            "\n",
            "Node \t\tUtilization\n",
            "-----------------------------------\n",
            "Node 1: \t0.2941176470588235\n",
            "Node 2: \t0.31176470588235294\n",
            "Node 3: \t0.31176470588235294\n",
            "Node 4: \t0.4809523809523809\n",
            "Node 5: \t0.2866666666666666\n",
            "Node 6: \t0.4421052631578948\n",
            "Node 7: \t0.21875\n",
            "Node 8: \t0.38\n",
            "Node 9: \t0.4421052631578948\n",
            "Node 10: \t0.2866666666666666\n"
          ]
        }
      ]
    },
    {
      "cell_type": "code",
      "source": [
        "#Print the average utilization of the nodes\n",
        "total_utilization = 0\n",
        "for _, util in utilization_rate:\n",
        "  total_utilization += util/10\n",
        "print(total_utilization)"
      ],
      "metadata": {
        "colab": {
          "base_uri": "https://localhost:8080/"
        },
        "id": "tlLZ1fRzOzUD",
        "outputId": "7eeef795-1162-4464-81fa-9a7443688a4c"
      },
      "execution_count": null,
      "outputs": [
        {
          "output_type": "stream",
          "name": "stdout",
          "text": [
            "0.34548932994250336\n"
          ]
        }
      ]
    }
  ]
}